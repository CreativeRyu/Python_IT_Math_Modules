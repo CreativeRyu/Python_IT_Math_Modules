{
 "cells": [
  {
   "attachments": {},
   "cell_type": "markdown",
   "metadata": {},
   "source": [
    "# **Aussagenlogik**"
   ]
  },
  {
   "attachments": {},
   "cell_type": "markdown",
   "metadata": {},
   "source": [
    "## **Konjunktion und Disjunktion**"
   ]
  },
  {
   "cell_type": "code",
   "execution_count": 7,
   "metadata": {},
   "outputs": [
    {
     "name": "stdout",
     "output_type": "stream",
     "text": [
      "[('Screws', 43), ('Wheels', 12), ('Metal Parts', 95), ('Rubber bits', 421), ('Screwdrivers', 23), ('Wood', 42)]\n",
      "('Screws', 43)\n",
      "('Wheels', 12)\n",
      "('Metal Parts', 95)\n",
      "('Rubber bits', 421)\n",
      "('Screwdrivers', 23)\n",
      "('Wood', 42)\n",
      "Screws : 43\n",
      "Wheels : 12\n",
      "Metal Parts : 95\n",
      "Rubber bits : 421\n",
      "Screwdrivers : 23\n",
      "Wood : 42\n"
     ]
    }
   ],
   "source": [
    "\n"
   ]
  },
  {
   "cell_type": "code",
   "execution_count": 11,
   "metadata": {},
   "outputs": [
    {
     "name": "stdout",
     "output_type": "stream",
     "text": [
      "[(0, 'Screws'), (1, 'Wheels'), (2, 'Metal Parts'), (3, 'Rubber bits'), (4, 'Screwdrivers'), (5, 'Wood')]\n",
      "(0, 'Screws')\n",
      "(1, 'Wheels')\n",
      "(2, 'Metal Parts')\n",
      "(3, 'Rubber bits')\n",
      "(4, 'Screwdrivers')\n",
      "(5, 'Wood')\n",
      "0 Screws\n",
      "1 Wheels\n",
      "2 Metal Parts\n",
      "# # # # # # #\n",
      "\n",
      "halfway done\n",
      "\n",
      "# # # # # # #\n",
      "3 Rubber bits\n",
      "4 Screwdrivers\n",
      "5 Wood\n"
     ]
    }
   ],
   "source": []
  },
  {
   "cell_type": "code",
   "execution_count": 15,
   "metadata": {},
   "outputs": [
    {
     "name": "stdout",
     "output_type": "stream",
     "text": [
      "Screws [id: 0] - inventory: 43\n",
      "Wheels [id: 1] - inventory: 12\n",
      "Metal Parts [id: 2] - inventory: 95\n",
      "Rubber bits [id: 3] - inventory: 421\n",
      "Screwdrivers [id: 4] - inventory: 23\n",
      "Wood [id: 5] - inventory: 42\n"
     ]
    }
   ],
   "source": []
  },
  {
   "attachments": {},
   "cell_type": "markdown",
   "metadata": {},
   "source": [
    "## **Sorting Data**"
   ]
  },
  {
   "cell_type": "code",
   "execution_count": 26,
   "metadata": {},
   "outputs": [
    {
     "name": "stdout",
     "output_type": "stream",
     "text": [
      "[1, 2, 3, 4, 5]\n",
      "[1, 2, 3, 4, 5]\n",
      "[5, 4, 3, 2, 1]\n",
      "[('a', 3), ('d', 5), ('c', 6), ('b', 10)]\n",
      "[('a', 3), ('d', 5), ('c', 6), ('b', 10)]\n"
     ]
    }
   ],
   "source": []
  },
  {
   "cell_type": "code",
   "execution_count": 30,
   "metadata": {},
   "outputs": [
    {
     "name": "stdout",
     "output_type": "stream",
     "text": [
      "[('Wheels', 12), ('Screwdrivers', 23), ('Wood', 42), ('Screws', 43), ('Metal Parts', 95), ('Rubber bits', 421)]\n",
      "[('Wood', 42), ('Screws', 43), ('Wheels', 12), ('Metal Parts', 95), ('Rubber bits', 421), ('Screwdrivers', 23)]\n"
     ]
    }
   ],
   "source": [
    "# Exercise\n",
    "# TODO 1 Sort this List by inventory numbers\n",
    "# TODO 2 Sort this List by the length of inventory_names\n",
    "\n",
    "inventory_names = [\"Screws\", \"Wheels\", \"Metal Parts\", \"Rubber bits\", \"Screwdrivers\", \"Wood\"]\n",
    "inventory_numbers = [43, 12, 95, 421, 23, 42]\n",
    "inventory = list(zip(inventory_names, inventory_numbers))\n",
    "\n",
    "print(sorted(inventory, key = lambda inventory_tuple: inventory_tuple[1]))\n",
    "print(sorted(inventory, key = lambda inventory_tuple: len(inventory_tuple[0])))"
   ]
  },
  {
   "attachments": {},
   "cell_type": "markdown",
   "metadata": {},
   "source": [
    "### **Map() Function**\n",
    "Benötigt einen key und ein iterable.\\\n",
    "map(key, iterable)"
   ]
  },
  {
   "cell_type": "code",
   "execution_count": 36,
   "metadata": {},
   "outputs": [
    {
     "name": "stdout",
     "output_type": "stream",
     "text": [
      "<map object at 0x0000026B68C7C790>\n",
      "[1, 4, 9, 16, 25]\n",
      "[1, 4, 9, 16, 25]\n",
      "[1, 4, 9, 16, 25]\n"
     ]
    }
   ],
   "source": [
    "# map - changes values with a function inside of an iterable\n",
    "my_list = [1,2,3,4,5]\n",
    "\n",
    "def power_function(num):\n",
    "    return num ** 2\n",
    "\n",
    "print(map(power_function, my_list)) # nutzlos daher noch einmal in ein Listenobjekt umwandeln\n",
    "print(list(map(power_function, my_list)))\n",
    "\n",
    "# jetzt wieder als lambda\n",
    "print(list(map(lambda num: num ** 2, my_list)))\n",
    "\n",
    "# und hier noch einmal als List Comprehension\n",
    "my_list_comp_power = [num ** 2 for num in my_list]\n",
    "print(my_list_comp_power)\n"
   ]
  },
  {
   "attachments": {},
   "cell_type": "markdown",
   "metadata": {},
   "source": [
    "### **Filter() Function**\n",
    "Filters out Values from a condition.\\\n",
    "filter(key, iterable)"
   ]
  },
  {
   "cell_type": "code",
   "execution_count": 37,
   "metadata": {},
   "outputs": [
    {
     "name": "stdout",
     "output_type": "stream",
     "text": [
      "[1, 2, 3]\n",
      "[1, 2, 3]\n",
      "[1, 2, 3]\n"
     ]
    }
   ],
   "source": [
    "def get_below_4(num):\n",
    "    if num < 4:\n",
    "        return True\n",
    "    else:\n",
    "        False\n",
    "print(list(filter(get_below_4, my_list))) # wenn false dann wird der Wert nicht übernommen\n",
    "\n",
    "# hier wieder als lambda\n",
    "print(list(filter(lambda num: True if num < 4 else False, my_list)))\n",
    "\n",
    "# und hier noch einmal als List Comprehension\n",
    "list_below_4 = [num for num in my_list if num < 4]\n",
    "print(list_below_4)"
   ]
  }
 ],
 "metadata": {
  "kernelspec": {
   "display_name": "Python 3",
   "language": "python",
   "name": "python3"
  },
  "language_info": {
   "codemirror_mode": {
    "name": "ipython",
    "version": 3
   },
   "file_extension": ".py",
   "mimetype": "text/x-python",
   "name": "python",
   "nbconvert_exporter": "python",
   "pygments_lexer": "ipython3",
   "version": "3.10.2"
  },
  "orig_nbformat": 4
 },
 "nbformat": 4,
 "nbformat_minor": 2
}
